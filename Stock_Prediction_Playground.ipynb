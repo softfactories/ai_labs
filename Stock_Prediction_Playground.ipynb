{
  "nbformat": 4,
  "nbformat_minor": 0,
  "metadata": {
    "colab": {
      "name": "Stock Prediction Playground.ipynb",
      "provenance": [],
      "collapsed_sections": [],
      "include_colab_link": true
    },
    "kernelspec": {
      "name": "python3",
      "display_name": "Python 3"
    }
  },
  "cells": [
    {
      "cell_type": "markdown",
      "metadata": {
        "id": "view-in-github",
        "colab_type": "text"
      },
      "source": [
        "<a href=\"https://colab.research.google.com/github/softfactories/ai_labs/blob/master/Stock_Prediction_Playground.ipynb\" target=\"_parent\"><img src=\"https://colab.research.google.com/assets/colab-badge.svg\" alt=\"Open In Colab\"/></a>"
      ]
    },
    {
      "cell_type": "markdown",
      "metadata": {
        "id": "xou7uTt8ngS9",
        "colab_type": "text"
      },
      "source": [
        "**Stock Prices Prediction Using Machine Learning and Deep Learning Techniques (with Python codes)** Credit [AISHWARYA SINGH](https://www.analyticsvidhya.com/blog/2018/10/predicting-stock-price-machine-learningnd-deep-learning-techniques-python/)"
      ]
    },
    {
      "cell_type": "code",
      "metadata": {
        "id": "xEo32Zrtnjft",
        "colab_type": "code",
        "colab": {}
      },
      "source": [
        "#import packages\n",
        "import pandas as pd\n",
        "import numpy as np\n",
        "\n",
        "#to plot within notebook\n",
        "import matplotlib.pyplot as plt\n",
        "%matplotlib inline\n",
        "\n",
        "#setting figure size\n",
        "from matplotlib.pylab import rcParams\n",
        "rcParams['figure.figsize'] = 20,10\n",
        "\n",
        "#for normalizing data\n",
        "from sklearn.preprocessing import MinMaxScaler\n",
        "scaler = MinMaxScaler(feature_range=(0, 1))\n",
        "\n"
      ],
      "execution_count": 0,
      "outputs": []
    },
    {
      "cell_type": "markdown",
      "metadata": {
        "id": "uS9WO-bPnnSU",
        "colab_type": "text"
      },
      "source": [
        "---"
      ]
    },
    {
      "cell_type": "code",
      "metadata": {
        "id": "6iuAt12ano5E",
        "colab_type": "code",
        "outputId": "83c18fc9-fbb0-42c3-efc0-919a542f8215",
        "colab": {
          "base_uri": "https://localhost:8080/",
          "height": 198
        }
      },
      "source": [
        "#read the file\n",
        "df = pd.read_csv('https://bizzdozer.com/ki2019/data/TATA.csv')\n",
        "\n",
        "#print the head\n",
        "df.head()"
      ],
      "execution_count": 5,
      "outputs": [
        {
          "output_type": "execute_result",
          "data": {
            "text/html": [
              "<div>\n",
              "<style scoped>\n",
              "    .dataframe tbody tr th:only-of-type {\n",
              "        vertical-align: middle;\n",
              "    }\n",
              "\n",
              "    .dataframe tbody tr th {\n",
              "        vertical-align: top;\n",
              "    }\n",
              "\n",
              "    .dataframe thead th {\n",
              "        text-align: right;\n",
              "    }\n",
              "</style>\n",
              "<table border=\"1\" class=\"dataframe\">\n",
              "  <thead>\n",
              "    <tr style=\"text-align: right;\">\n",
              "      <th></th>\n",
              "      <th>Date</th>\n",
              "      <th>Open</th>\n",
              "      <th>High</th>\n",
              "      <th>Low</th>\n",
              "      <th>Last</th>\n",
              "      <th>Close</th>\n",
              "      <th>Total Trade Quantity</th>\n",
              "      <th>Turnover (Lacs)</th>\n",
              "    </tr>\n",
              "  </thead>\n",
              "  <tbody>\n",
              "    <tr>\n",
              "      <th>0</th>\n",
              "      <td>2019-01-04</td>\n",
              "      <td>210.60</td>\n",
              "      <td>214.90</td>\n",
              "      <td>210.00</td>\n",
              "      <td>213.50</td>\n",
              "      <td>213.80</td>\n",
              "      <td>1213181.0</td>\n",
              "      <td>2583.05</td>\n",
              "    </tr>\n",
              "    <tr>\n",
              "      <th>1</th>\n",
              "      <td>2019-01-03</td>\n",
              "      <td>214.95</td>\n",
              "      <td>215.35</td>\n",
              "      <td>209.90</td>\n",
              "      <td>210.55</td>\n",
              "      <td>210.05</td>\n",
              "      <td>2096553.0</td>\n",
              "      <td>4433.50</td>\n",
              "    </tr>\n",
              "    <tr>\n",
              "      <th>2</th>\n",
              "      <td>2019-01-02</td>\n",
              "      <td>219.00</td>\n",
              "      <td>220.35</td>\n",
              "      <td>213.60</td>\n",
              "      <td>214.20</td>\n",
              "      <td>214.60</td>\n",
              "      <td>1081778.0</td>\n",
              "      <td>2340.31</td>\n",
              "    </tr>\n",
              "    <tr>\n",
              "      <th>3</th>\n",
              "      <td>2019-01-01</td>\n",
              "      <td>219.95</td>\n",
              "      <td>221.05</td>\n",
              "      <td>218.05</td>\n",
              "      <td>218.95</td>\n",
              "      <td>219.10</td>\n",
              "      <td>716275.0</td>\n",
              "      <td>1571.63</td>\n",
              "    </tr>\n",
              "    <tr>\n",
              "      <th>4</th>\n",
              "      <td>2018-12-31</td>\n",
              "      <td>222.00</td>\n",
              "      <td>223.65</td>\n",
              "      <td>218.85</td>\n",
              "      <td>219.55</td>\n",
              "      <td>219.40</td>\n",
              "      <td>965858.0</td>\n",
              "      <td>2131.09</td>\n",
              "    </tr>\n",
              "  </tbody>\n",
              "</table>\n",
              "</div>"
            ],
            "text/plain": [
              "         Date    Open    High  ...   Close  Total Trade Quantity  Turnover (Lacs)\n",
              "0  2019-01-04  210.60  214.90  ...  213.80             1213181.0          2583.05\n",
              "1  2019-01-03  214.95  215.35  ...  210.05             2096553.0          4433.50\n",
              "2  2019-01-02  219.00  220.35  ...  214.60             1081778.0          2340.31\n",
              "3  2019-01-01  219.95  221.05  ...  219.10              716275.0          1571.63\n",
              "4  2018-12-31  222.00  223.65  ...  219.40              965858.0          2131.09\n",
              "\n",
              "[5 rows x 8 columns]"
            ]
          },
          "metadata": {
            "tags": []
          },
          "execution_count": 5
        }
      ]
    },
    {
      "cell_type": "markdown",
      "metadata": {
        "id": "YCQkA0syA-Ys",
        "colab_type": "text"
      },
      "source": [
        "TODO: jeweilgen Algorhytmus aus folgendem BLOG als eine basis übernehmen: [WP mit ML handeln (BLOG-Artikel)](https://www.analyticsvidhya.com/blog/2018/10/predicting-stock-price-machine-learningnd-deep-learning-techniques-python/ )"
      ]
    }
  ]
}